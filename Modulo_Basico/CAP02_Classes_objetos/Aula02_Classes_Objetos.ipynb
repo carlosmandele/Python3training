{
  "nbformat": 4,
  "nbformat_minor": 0,
  "metadata": {
    "colab": {
      "provenance": []
    },
    "kernelspec": {
      "name": "python3",
      "display_name": "Python 3"
    },
    "language_info": {
      "name": "python"
    }
  },
  "cells": [
    {
      "cell_type": "markdown",
      "source": [
        "# Aula02 - Classes e Objetos\n",
        "\n",
        "- As classes servem de modelo para instânciar os objetos. A partir de uma classe podemos criar diversos objetos.\n",
        "- Todo objeto tem um identificador, oculpa memoria, armazenam dados e executam tarefas"
      ],
      "metadata": {
        "id": "Ki2y0fd41Bac"
      }
    },
    {
      "cell_type": "code",
      "execution_count": 1,
      "metadata": {
        "id": "b98-6E_XIeDs",
        "colab": {
          "base_uri": "https://localhost:8080/"
        },
        "outputId": "57bb0d96-e5a1-4dd0-f9bc-d68d22b3c847"
      },
      "outputs": [
        {
          "output_type": "stream",
          "name": "stdout",
          "text": [
            "2\n"
          ]
        }
      ],
      "source": [
        "x = 2\n",
        "print(x)\n",
        "# ou simplismente escrever o nome do objeto x"
      ]
    },
    {
      "cell_type": "markdown",
      "source": [
        "### Exibindo o tipo de classe do objeto\n",
        "\n",
        "- Comando `type()`"
      ],
      "metadata": {
        "id": "mj7cDNp76d9J"
      }
    },
    {
      "cell_type": "code",
      "source": [
        "x = 2\n",
        "type(x)"
      ],
      "metadata": {
        "colab": {
          "base_uri": "https://localhost:8080/"
        },
        "id": "HLBlFVqt50rt",
        "outputId": "0622a51c-d730-4f1a-e5c0-94150fbe5cfa"
      },
      "execution_count": 4,
      "outputs": [
        {
          "output_type": "execute_result",
          "data": {
            "text/plain": [
              "int"
            ]
          },
          "metadata": {},
          "execution_count": 4
        }
      ]
    },
    {
      "cell_type": "code",
      "source": [
        "x2 = 6.99\n",
        "type(x2)"
      ],
      "metadata": {
        "colab": {
          "base_uri": "https://localhost:8080/"
        },
        "id": "L671X-oyG9YJ",
        "outputId": "335361bc-d9de-44fb-e6d9-92d004c3fb48"
      },
      "execution_count": 5,
      "outputs": [
        {
          "output_type": "execute_result",
          "data": {
            "text/plain": [
              "float"
            ]
          },
          "metadata": {},
          "execution_count": 5
        }
      ]
    },
    {
      "cell_type": "code",
      "source": [
        "y = x * x2\n",
        "type(y)"
      ],
      "metadata": {
        "colab": {
          "base_uri": "https://localhost:8080/"
        },
        "id": "78k4BB_tHLYG",
        "outputId": "c5c80e3b-fc52-4c99-a802-519e0ee0bcdd"
      },
      "execution_count": 6,
      "outputs": [
        {
          "output_type": "execute_result",
          "data": {
            "text/plain": [
              "float"
            ]
          },
          "metadata": {},
          "execution_count": 6
        }
      ]
    },
    {
      "cell_type": "code",
      "source": [
        "msg = \"Total =\"\n",
        "type(msg)"
      ],
      "metadata": {
        "colab": {
          "base_uri": "https://localhost:8080/"
        },
        "id": "tot8EiUBHNpZ",
        "outputId": "9912b206-a2ae-49c6-bbf6-a338ef67fceb"
      },
      "execution_count": 7,
      "outputs": [
        {
          "output_type": "execute_result",
          "data": {
            "text/plain": [
              "str"
            ]
          },
          "metadata": {},
          "execution_count": 7
        }
      ]
    },
    {
      "cell_type": "code",
      "source": [],
      "metadata": {
        "id": "09k6CZLoHPVS"
      },
      "execution_count": null,
      "outputs": []
    }
  ]
}