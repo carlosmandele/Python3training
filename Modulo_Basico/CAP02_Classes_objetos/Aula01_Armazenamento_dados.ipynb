{
  "nbformat": 4,
  "nbformat_minor": 0,
  "metadata": {
    "colab": {
      "provenance": []
    },
    "kernelspec": {
      "name": "python3",
      "display_name": "Python 3"
    },
    "language_info": {
      "name": "python"
    }
  },
  "cells": [
    {
      "cell_type": "markdown",
      "source": [
        "## Aula01 - Armazenamento de dados em python\n",
        "\n",
        "- Criando um objeto e atribuindo a ele um valor\n",
        "- Observe que, quando realizamos este processo o python armazena este valor na memoria da maquina(computador) e atribui a essa memoria o objeto(identificador) x.\n",
        "\n",
        "- Em seguida, podemos chamar o nome do objeto ou mandar imprimir na tela para testar e visualizar o valor contido nele."
      ],
      "metadata": {
        "id": "Ki2y0fd41Bac"
      }
    },
    {
      "cell_type": "markdown",
      "source": [
        "**Nota**: A criação dos objetos em python acontece quando atribuimos um valor a este objeto."
      ],
      "metadata": {
        "id": "2uZRJvwb5UU0"
      }
    },
    {
      "cell_type": "code",
      "execution_count": 1,
      "metadata": {
        "id": "b98-6E_XIeDs",
        "colab": {
          "base_uri": "https://localhost:8080/"
        },
        "outputId": "4e29fc92-e182-4c1c-ece2-3d2a13b40623"
      },
      "outputs": [
        {
          "output_type": "stream",
          "name": "stdout",
          "text": [
            "2\n"
          ]
        }
      ],
      "source": [
        "x = 2\n",
        "print(x)\n",
        "# ou simplismente escrever o nome do objeto x"
      ]
    },
    {
      "cell_type": "markdown",
      "source": [
        "### Manipulação de objetos\n",
        "\n",
        "- Criando 4 objetos e seus respectivos valores\n"
      ],
      "metadata": {
        "id": "mj7cDNp76d9J"
      }
    },
    {
      "cell_type": "code",
      "source": [
        "x = 2\n",
        "x2 = 6.99\n",
        "y = x * x2\n",
        "msg = \"Total =\"\n",
        "\n",
        "print(msg, y)"
      ],
      "metadata": {
        "colab": {
          "base_uri": "https://localhost:8080/"
        },
        "id": "HLBlFVqt50rt",
        "outputId": "dd641f1d-7fbf-4c8c-d935-81bf52218fd1"
      },
      "execution_count": 4,
      "outputs": [
        {
          "output_type": "stream",
          "name": "stdout",
          "text": [
            "Total = 13.98\n"
          ]
        }
      ]
    }
  ]
}